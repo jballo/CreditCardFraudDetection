{
  "cells": [
    {
      "cell_type": "code",
      "execution_count": 51,
      "metadata": {
        "id": "sr4c7GPrdFak"
      },
      "outputs": [],
      "source": [
        "import pandas as pd\n",
        "import matplotlib.pyplot as plt\n",
        "import seaborn as sns\n",
        "from datetime import datetime"
      ]
    },
    {
      "cell_type": "code",
      "execution_count": 52,
      "metadata": {
        "id": "FSDlXgW0ffQD"
      },
      "outputs": [],
      "source": [
        "df_test = pd.read_csv(\"fraudTest.csv\")\n",
        "df_train = pd.read_csv(\"fraudTrain.csv\")"
      ]
    },
    {
      "cell_type": "code",
      "execution_count": 53,
      "metadata": {
        "id": "mb6xW6HsgXSH"
      },
      "outputs": [],
      "source": [
        "df_test.drop(\"Unnamed: 0\", axis=1, inplace=True)\n",
        "df_train.drop(\"Unnamed: 0\", axis=1, inplace=True)"
      ]
    },
    {
      "cell_type": "code",
      "execution_count": 54,
      "metadata": {
        "colab": {
          "base_uri": "https://localhost:8080/",
          "height": 860
        },
        "id": "-OWrgzzYftMF",
        "outputId": "33d88f70-2adb-40f7-b949-28a1a7d2a74b"
      },
      "outputs": [],
      "source": [
        "# df_test"
      ]
    },
    {
      "cell_type": "code",
      "execution_count": 55,
      "metadata": {
        "colab": {
          "base_uri": "https://localhost:8080/",
          "height": 878
        },
        "id": "tc-TQowHfuVa",
        "outputId": "59cd0496-691f-491b-f372-5b9e62dfe82d"
      },
      "outputs": [],
      "source": [
        "# df_train"
      ]
    },
    {
      "cell_type": "code",
      "execution_count": 56,
      "metadata": {
        "colab": {
          "base_uri": "https://localhost:8080/",
          "height": 320
        },
        "id": "KjFUM1oJf2Qh",
        "outputId": "8e20764a-5396-4ea7-af15-f3fcd58b2586"
      },
      "outputs": [],
      "source": [
        "# df_test.describe()"
      ]
    },
    {
      "cell_type": "code",
      "execution_count": 57,
      "metadata": {
        "colab": {
          "base_uri": "https://localhost:8080/",
          "height": 320
        },
        "id": "mQJrUU5ViWsh",
        "outputId": "198c92fb-f979-4c3d-a33a-f24517bf3aef"
      },
      "outputs": [],
      "source": [
        "# df_train.describe()"
      ]
    },
    {
      "cell_type": "code",
      "execution_count": null,
      "metadata": {
        "colab": {
          "base_uri": "https://localhost:8080/",
          "height": 53
        },
        "id": "ilxxTQD8iY-s",
        "outputId": "b705551c-4bf3-49af-f3b4-329b63e90825"
      },
      "outputs": [],
      "source": [
        "sns.set_style(style=\"whitegrid\")\n",
        "plt.figure(figsize=(12, 10))"
      ]
    },
    {
      "cell_type": "code",
      "execution_count": 59,
      "metadata": {
        "colab": {
          "base_uri": "https://localhost:8080/",
          "height": 490
        },
        "id": "dDe9Tb1JiuK8",
        "outputId": "042dbf4d-7e62-49a2-86bd-e266e27919fa"
      },
      "outputs": [],
      "source": [
        "# sns.countplot(x=\"is_fraud\", data=df_test)\n",
        "# plt.title(\"Distribution of Fraud in Test Dataframe\")"
      ]
    },
    {
      "cell_type": "code",
      "execution_count": 60,
      "metadata": {
        "colab": {
          "base_uri": "https://localhost:8080/",
          "height": 490
        },
        "id": "yOvqVSF8jAfF",
        "outputId": "f6453687-2a73-434b-fa13-d598422d8736"
      },
      "outputs": [],
      "source": [
        "# sns.countplot(x=\"is_fraud\", data=df_train)\n",
        "# plt.title(\"Distribution of Fraud in Train Dataframe\")"
      ]
    },
    {
      "cell_type": "code",
      "execution_count": 61,
      "metadata": {},
      "outputs": [],
      "source": [
        "df_test['dob'] = pd.to_datetime(df_test['dob'], errors='coerce')\n",
        "df_train['dob'] = pd.to_datetime(df_train['dob'], errors='coerce')"
      ]
    },
    {
      "cell_type": "code",
      "execution_count": 62,
      "metadata": {},
      "outputs": [],
      "source": [
        "# df_test"
      ]
    },
    {
      "cell_type": "code",
      "execution_count": 63,
      "metadata": {},
      "outputs": [],
      "source": [
        "# df_train"
      ]
    },
    {
      "cell_type": "code",
      "execution_count": 64,
      "metadata": {},
      "outputs": [],
      "source": [
        "today = datetime.today()\n",
        "df_test['age'] = df_test['dob'].apply(lambda x: today.year - x.year - ((today.month, today.day) < (x.month, x.day)) if pd.notnull(x) else None)\n",
        "df_train['age'] = df_train['dob'].apply(lambda x: today.year - x.year - ((today.month, today.day) < (x.month, x.day)) if pd.notnull(x) else None)"
      ]
    },
    {
      "cell_type": "code",
      "execution_count": 65,
      "metadata": {},
      "outputs": [],
      "source": [
        "# df_test"
      ]
    },
    {
      "cell_type": "code",
      "execution_count": 66,
      "metadata": {},
      "outputs": [],
      "source": [
        "# df_train"
      ]
    },
    {
      "cell_type": "code",
      "execution_count": 67,
      "metadata": {},
      "outputs": [],
      "source": [
        "# sns.histplot(data=df_test, x=\"age\", kde=True)\n",
        "# plt.title(\"Test Age Distribution\")"
      ]
    },
    {
      "cell_type": "code",
      "execution_count": 68,
      "metadata": {},
      "outputs": [],
      "source": [
        "# sns.histplot(df_train, x=\"age\", kde=True)\n",
        "# plt.title(\"Train Age Distribution\")"
      ]
    },
    {
      "cell_type": "code",
      "execution_count": 69,
      "metadata": {},
      "outputs": [],
      "source": [
        "# sns.scatterplot(data=df_test, x=\"city_pop\", y=\"age\", hue=\"is_fraud\")\n",
        "# plt.title(\"Test City Population vs Age\")"
      ]
    },
    {
      "cell_type": "code",
      "execution_count": 70,
      "metadata": {},
      "outputs": [],
      "source": [
        "# sns.scatterplot(data=df_train, x=\"city_pop\", y=\"age\", hue=\"is_fraud\")\n",
        "# plt.title(\"Train City Population vs Age\")"
      ]
    },
    {
      "cell_type": "code",
      "execution_count": 71,
      "metadata": {},
      "outputs": [],
      "source": [
        "# sns.boxplot(x=\"is_fraud\", y=\"amt\", data=df_test)\n",
        "# plt.title(\"Test Purchase Amount by Fraud\")"
      ]
    },
    {
      "cell_type": "code",
      "execution_count": 72,
      "metadata": {},
      "outputs": [],
      "source": [
        "# sns.boxplot(x=\"is_fraud\", y=\"amt\", data=df_train)\n",
        "# plt.title(\"Train Purchase Amount by Fraud\")"
      ]
    },
    {
      "cell_type": "code",
      "execution_count": 73,
      "metadata": {},
      "outputs": [],
      "source": [
        "df_train = df_train.dropna()\n",
        "df_test = df_test.dropna()"
      ]
    },
    {
      "cell_type": "code",
      "execution_count": 74,
      "metadata": {},
      "outputs": [],
      "source": [
        "df_train = df_train.drop([\"first\", \"last\", \"cc_num\", \"street\", \"city\", \"zip\", \"trans_num\", \"unix_time\"], axis=1)\n",
        "df_test = df_test.drop([\"first\", \"last\", \"cc_num\", \"street\", \"city\", \"zip\", \"trans_num\", \"unix_time\"], axis=1)\n"
      ]
    },
    {
      "cell_type": "code",
      "execution_count": 75,
      "metadata": {},
      "outputs": [],
      "source": [
        "# df_test"
      ]
    },
    {
      "cell_type": "code",
      "execution_count": 76,
      "metadata": {},
      "outputs": [],
      "source": [
        "# df_train"
      ]
    },
    {
      "cell_type": "code",
      "execution_count": 77,
      "metadata": {},
      "outputs": [],
      "source": [
        "# df_train = pd.get_dummies(df_train, drop_first=True)"
      ]
    },
    {
      "cell_type": "code",
      "execution_count": 78,
      "metadata": {},
      "outputs": [],
      "source": [
        "# df_test = pd.get_dummies(df_test, drop_first=True)"
      ]
    },
    {
      "cell_type": "code",
      "execution_count": 79,
      "metadata": {},
      "outputs": [],
      "source": [
        "target_column = \"is_fraud\""
      ]
    },
    {
      "cell_type": "code",
      "execution_count": 80,
      "metadata": {},
      "outputs": [],
      "source": [
        "X_train = df_train.drop(target_column, axis=1)\n",
        "y_train = df_train[target_column]"
      ]
    },
    {
      "cell_type": "code",
      "execution_count": 81,
      "metadata": {},
      "outputs": [],
      "source": [
        "# X_train"
      ]
    },
    {
      "cell_type": "code",
      "execution_count": 82,
      "metadata": {},
      "outputs": [],
      "source": [
        "# y_train"
      ]
    },
    {
      "cell_type": "code",
      "execution_count": 83,
      "metadata": {},
      "outputs": [],
      "source": [
        "X_test = df_test.drop(target_column, axis=1)\n",
        "y_test = df_test[target_column]"
      ]
    },
    {
      "cell_type": "code",
      "execution_count": 84,
      "metadata": {},
      "outputs": [],
      "source": [
        "# X_test"
      ]
    },
    {
      "cell_type": "code",
      "execution_count": 85,
      "metadata": {},
      "outputs": [],
      "source": [
        "# y_test"
      ]
    },
    {
      "cell_type": "code",
      "execution_count": 86,
      "metadata": {},
      "outputs": [],
      "source": [
        "categorical_columns = ['merchant', 'category', 'gender', 'state', 'job']"
      ]
    },
    {
      "cell_type": "code",
      "execution_count": 87,
      "metadata": {},
      "outputs": [],
      "source": [
        "X_train = pd.get_dummies(X_train, columns=categorical_columns)"
      ]
    },
    {
      "cell_type": "code",
      "execution_count": 88,
      "metadata": {},
      "outputs": [],
      "source": [
        "# X_train"
      ]
    },
    {
      "cell_type": "code",
      "execution_count": 89,
      "metadata": {},
      "outputs": [],
      "source": [
        "X_test = pd.get_dummies(X_test, columns=categorical_columns)"
      ]
    },
    {
      "cell_type": "code",
      "execution_count": 90,
      "metadata": {},
      "outputs": [],
      "source": [
        "# X_test"
      ]
    },
    {
      "cell_type": "code",
      "execution_count": 91,
      "metadata": {},
      "outputs": [],
      "source": [
        "X_train['trans_date_trans_time'] = pd.to_datetime(X_train['trans_date_trans_time'])\n",
        "X_train['transaction_hour'] = X_train['trans_date_trans_time'].dt.hour\n",
        "X_train['transaction_day'] = X_train['trans_date_trans_time'].dt.day\n",
        "X_train['transaction_weekday'] = X_train['trans_date_trans_time'].dt.weekday"
      ]
    },
    {
      "cell_type": "code",
      "execution_count": 92,
      "metadata": {},
      "outputs": [],
      "source": [
        "# X_train"
      ]
    },
    {
      "cell_type": "code",
      "execution_count": 93,
      "metadata": {},
      "outputs": [],
      "source": [
        "X_train = X_train.drop('trans_date_trans_time', axis=1)\n"
      ]
    },
    {
      "cell_type": "code",
      "execution_count": 94,
      "metadata": {},
      "outputs": [],
      "source": [
        "# X_train"
      ]
    },
    {
      "cell_type": "code",
      "execution_count": 95,
      "metadata": {},
      "outputs": [],
      "source": [
        "X_test['trans_date_trans_time'] = pd.to_datetime(X_test['trans_date_trans_time'])\n",
        "X_test['transaction_hour'] = X_test['trans_date_trans_time'].dt.hour\n",
        "X_test['transaction_day'] = X_test['trans_date_trans_time'].dt.day\n",
        "X_test['transaction_weekday'] = X_test['trans_date_trans_time'].dt.weekday"
      ]
    },
    {
      "cell_type": "code",
      "execution_count": 96,
      "metadata": {},
      "outputs": [],
      "source": [
        "# X_test"
      ]
    },
    {
      "cell_type": "code",
      "execution_count": 97,
      "metadata": {},
      "outputs": [],
      "source": [
        "X_test = X_test.drop('trans_date_trans_time', axis=1)"
      ]
    },
    {
      "cell_type": "code",
      "execution_count": 98,
      "metadata": {},
      "outputs": [],
      "source": [
        "# X_test"
      ]
    },
    {
      "cell_type": "code",
      "execution_count": 99,
      "metadata": {},
      "outputs": [],
      "source": [
        "# Convert 'date_of_birth' to datetime if not already done\n",
        "X_train['dob'] = pd.to_datetime(X_train['dob'])\n",
        "X_test['dob'] = pd.to_datetime(X_test['dob'])\n",
        "\n",
        "# Extract year, month, and day into separate columns\n",
        "X_train['birth_year'] = X_train['dob'].dt.year\n",
        "X_train['birth_month'] = X_train['dob'].dt.month\n",
        "X_train['birth_day'] = X_train['dob'].dt.day\n",
        "\n",
        "X_test['birth_year'] = X_test['dob'].dt.year\n",
        "X_test['birth_month'] = X_test['dob'].dt.month\n",
        "X_test['birth_day'] = X_test['dob'].dt.day\n",
        "\n",
        "# Drop the original 'date_of_birth' column\n",
        "X_train = X_train.drop('dob', axis=1)\n",
        "X_test = X_test.drop('dob', axis=1)"
      ]
    },
    {
      "cell_type": "code",
      "execution_count": 100,
      "metadata": {},
      "outputs": [],
      "source": [
        "from sklearn.preprocessing import StandardScaler"
      ]
    },
    {
      "cell_type": "code",
      "execution_count": 101,
      "metadata": {},
      "outputs": [],
      "source": [
        "scaler = StandardScaler()\n",
        "\n",
        "X_train = scaler.fit_transform(X_train)\n",
        "X_test = scaler.fit_transform(X_test)"
      ]
    },
    {
      "cell_type": "code",
      "execution_count": 102,
      "metadata": {},
      "outputs": [],
      "source": [
        "from sklearn.linear_model import LogisticRegression\n",
        "from sklearn.metrics import accuracy_score, classification_report, confusion_matrix\n",
        "import pickle\n",
        "\n",
        "import xgboost as xgb\n",
        "from sklearn.ensemble import RandomForestClassifier\n",
        "from sklearn.tree import DecisionTreeClassifier\n",
        "from sklearn.svm import SVC\n",
        "from sklearn.naive_bayes import GaussianNB\n",
        "from sklearn.neighbors import KNeighborsClassifier\n",
        "\n",
        "from sklearn.ensemble import GradientBoostingClassifier\n",
        "from sklearn.ensemble import StackingClassifier"
      ]
    },
    {
      "cell_type": "code",
      "execution_count": 103,
      "metadata": {},
      "outputs": [],
      "source": [
        "lr_model = LogisticRegression(random_state=42)"
      ]
    },
    {
      "cell_type": "code",
      "execution_count": null,
      "metadata": {},
      "outputs": [],
      "source": [
        "# Check the shape of X_train and X_test\n",
        "print(f\"X_train shape: {X_train.shape}\")\n",
        "print(f\"X_test shape: {X_test.shape}\")"
      ]
    },
    {
      "cell_type": "code",
      "execution_count": null,
      "metadata": {},
      "outputs": [],
      "source": [
        "lr_model.fit(X_train, y_train)"
      ]
    }
  ],
  "metadata": {
    "colab": {
      "provenance": []
    },
    "kernelspec": {
      "display_name": "Python 3",
      "name": "python3"
    },
    "language_info": {
      "codemirror_mode": {
        "name": "ipython",
        "version": 3
      },
      "file_extension": ".py",
      "mimetype": "text/x-python",
      "name": "python",
      "nbconvert_exporter": "python",
      "pygments_lexer": "ipython3",
      "version": "3.12.2"
    }
  },
  "nbformat": 4,
  "nbformat_minor": 0
}
